{
 "cells": [
  {
   "cell_type": "code",
   "execution_count": 21,
   "metadata": {},
   "outputs": [],
   "source": [
    "import torch\n",
    "import torch.nn as nn\n",
    "from compressai.layers import conv1x1,conv3x3, AttentionBlock, CrossMaskedConv2d\n",
    "class TestNet(nn.Module):\n",
    "    def __init__(self):\n",
    "        super().__init__()\n",
    "        self.conv_enc = nn.Conv2d(3, 32, 3, 1, padding=1)\n",
    "        self.conv_cross = CrossMaskedConv2d(32, 64, 5, 1, padding=2, bias=True, padding_mode=\"zeros\")\n",
    "        self.conv_ep = nn.Conv2d(64, 64, 3, 1, padding=1)\n",
    "    \n",
    "    def forward(self, x):\n",
    "        x = self.conv_enc(x)\n",
    "        \n",
    "        y_anchor = x + 0.5\n",
    "        y_anchor[..., 0::2, 1::2] = 0\n",
    "        y_anchor[..., 1::2, 0::2] = 0\n",
    "        \n",
    "        y_ctx = self.conv_cross(y_anchor)\n",
    "        y_ctx[..., 0::2, 0::2] = 0\n",
    "        y_ctx[..., 1::2, 1::2] = 0\n",
    "        \n",
    "        out = self.conv_ep(y_ctx)\n",
    "        return out\n"
   ]
  },
  {
   "cell_type": "code",
   "execution_count": 22,
   "metadata": {},
   "outputs": [],
   "source": [
    "model = TestNet()\n",
    "for m in model.parameters():\n",
    "    m.data.fill_(0.1)\n",
    "model.train()\n",
    "images = torch.randn(2, 3, 16, 16)\n",
    "out = model(images)\n",
    "loss = (1000 * -torch.log2(out)).mean()\n",
    "loss.backward()"
   ]
  },
  {
   "cell_type": "code",
   "execution_count": 26,
   "metadata": {},
   "outputs": [
    {
     "data": {
      "text/plain": [
       "tensor([[-0.3417, -0.4334, -0.3383],\n",
       "        [-0.4434, -0.3761, -0.4320],\n",
       "        [-0.3583, -0.4518, -0.3462]])"
      ]
     },
     "execution_count": 26,
     "metadata": {},
     "output_type": "execute_result"
    }
   ],
   "source": [
    "model.conv_ep.weight.grad[16,16,...]"
   ]
  },
  {
   "cell_type": "code",
   "execution_count": null,
   "metadata": {},
   "outputs": [],
   "source": []
  }
 ],
 "metadata": {
  "kernelspec": {
   "display_name": "Python 3.8.12 ('dic')",
   "language": "python",
   "name": "python3"
  },
  "language_info": {
   "codemirror_mode": {
    "name": "ipython",
    "version": 3
   },
   "file_extension": ".py",
   "mimetype": "text/x-python",
   "name": "python",
   "nbconvert_exporter": "python",
   "pygments_lexer": "ipython3",
   "version": "3.8.12"
  },
  "orig_nbformat": 4,
  "vscode": {
   "interpreter": {
    "hash": "aec14395be1fce01530bb0ce91e15bb3b60880bd28921e0afcad8c1a35213909"
   }
  }
 },
 "nbformat": 4,
 "nbformat_minor": 2
}
